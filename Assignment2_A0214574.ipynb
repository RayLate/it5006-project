{
 "cells": [
  {
   "cell_type": "markdown",
   "metadata": {
    "id": "52fj0bRuXgvu"
   },
   "source": [
    "# Assignment 2: SoC Module Recommender System"
   ]
  },
  {
   "cell_type": "markdown",
   "metadata": {
    "id": "FjjJg5d_Xgvw"
   },
   "source": [
    "## Instructions to submit the assignment\n",
    "\n",
    "- Name your jupyter notebook as `Assignment2_[StudentID].ipynb`. For instance: `Assignment2_A0123873A.ipynb`\n",
    "- Your solution notebook must contain the python code that we can run to verify the answers.\n",
    "- Upload your jupyter notebook on LumiNUS in the *Assignment 1 Submissions* folder. The folder will close at 4pm on 02/04/2021. Late submissions will receive a penalty on the grade as follows:\n",
    "  - late within 1 hour: 10% reduction in grade\n",
    "  - late within 6 hours: 30% reduction in grade\n",
    "  - late within 12 hours: 50% reduction in grade\n",
    "  - late within 1 days: 70% reduction in grade\n",
    "  - after 1 days: zero mark\n",
    "- **This is an individual assessment. Refrain from working in groups.**"
   ]
  },
  {
   "cell_type": "markdown",
   "metadata": {
    "id": "pTnGjmPVXgvy"
   },
   "source": [
    "In this assignment we design a reccomendation engine. The recommendation engine suggests the students a module that closely matches the modules already taken by the student. The dataset comprices of two files:\n",
    "- List of modules in the School of Computing \n",
    "- List of graduated students and the modules they had taken during their studies"
   ]
  },
  {
   "cell_type": "markdown",
   "metadata": {
    "id": "PgL9CZ-pXgvz"
   },
   "source": [
    "# Loading the data"
   ]
  },
  {
   "cell_type": "code",
   "execution_count": 1,
   "metadata": {
    "id": "Tjl54HB5Xgvz"
   },
   "outputs": [],
   "source": [
    "import numpy as np\n",
    "import pandas as pd\n",
    "import matplotlib.pyplot as plt\n",
    "from sklearn.feature_extraction.text import CountVectorizer\n",
    "from sklearn.preprocessing import MultiLabelBinarizer, StandardScaler\n",
    "from sklearn.decomposition import PCA\n",
    "from sklearn.neighbors import NearestNeighbors, KNeighborsClassifier\n",
    "from sklearn.pipeline import Pipeline, FeatureUnion\n",
    "from sklearn.compose import ColumnTransformer\n",
    "from sklearn.impute import SimpleImputer\n",
    "from sklearn.base import  TransformerMixin\n",
    "'''\n",
    "    YOU MUST USE THE RANDOM SEED WHEREVER NEEDED\n",
    "'''\n",
    "rng = np.random.default_rng(seed=42)\n",
    "\n",
    "courses = pd.read_csv(\"courses.tsv\", sep='\\t')\n",
    "students = pd.read_csv(\"students.tsv\", sep='\\t')\n"
   ]
  },
  {
   "cell_type": "code",
   "execution_count": 2,
   "metadata": {},
   "outputs": [
    {
     "data": {
      "text/plain": [
       "array(['Core', 'DB', 'SE', 'PL', 'Networking', 'Multimedia', 'Security',\n",
       "       nan, 'Parallel', 'Parallel, PL', 'Graphics', 'Algo', 'PL, SE',\n",
       "       'AI', 'AI, DB', 'Algo, Networking, Parallel', 'Security, SE',\n",
       "       'AI, Graphics', 'AI, Multimedia', 'Algo, Security', 'AI, PL',\n",
       "       'Networking, Parallel', 'Algo, Graphics', 'Graphics, Multimedia',\n",
       "       'DB, Security'], dtype=object)"
      ]
     },
     "execution_count": 2,
     "metadata": {},
     "output_type": "execute_result"
    }
   ],
   "source": [
    "courses.specialisation.unique()\n",
    "# 1 typo Netoworking\n",
    "courses.specialisation = courses.specialisation.replace('Netoworking','Networking')\n",
    "courses.specialisation.unique()\n"
   ]
  },
  {
   "cell_type": "markdown",
   "metadata": {
    "id": "OKrejjTxXgv0"
   },
   "source": [
    "# Question 1: Creating the preprocessing pipeline"
   ]
  },
  {
   "cell_type": "markdown",
   "metadata": {
    "id": "yQ_EU5o9Xgv1"
   },
   "source": [
    "We want to create a sklearn pipeline to efficiently preprocess the data and prepare it for training a model. We use three different features in the `courses` data: `specialisation`, `info` and `workload`. We want to represent every feature in a numeric form and merge them to form a feature vector for every course. We do so in the following way:\n",
    "- `specialisation` represents one of the six levels of the module. For instance: CS2103 is a Software Engineering (SE) specialisation module. Encode this categorical feature into a vector. The decision of handling missing values is left to you! *(Hint: You can use `MultiLabelBinerizer` to do so.)*\n",
    "- `info` provides a short discription of the module. We want to convert it into a vector using CountVectorizer. *Don't forget to remove the stopwords* while doing so.\n",
    "-  `workload` states the intended distribution of workload over lectures, tutorials, labs and self study. We want to find the workload as the sum of individual workloads. For instnce: 3-1-1-3-2 workload transforms to 10 hours.\n",
    "\n",
    "Provide implementation for three classes that help us build the pipeline. `transformed_courses` should be a numpy array of shape `[n_courses X n_features]`.\n",
    "\n",
    "                                                                                                   (6 marks)"
   ]
  },
  {
   "cell_type": "code",
   "execution_count": 3,
   "metadata": {},
   "outputs": [],
   "source": [
    "class WorkloadTransformer(TransformerMixin):\n",
    "\n",
    "    def fit(self, X, y=None, **fit_params):\n",
    "        return self\n",
    "\n",
    "    def transform(self, X, y=None, **fit_params):\n",
    "        if 'workload' in X.columns:\n",
    "            workload_ = X.workload.apply(\n",
    "                lambda x: sum(map(float, x.split('-'))))\n",
    "            return np.array(workload_).reshape(-1, 1)\n",
    "        return self\n"
   ]
  },
  {
   "cell_type": "code",
   "execution_count": 4,
   "metadata": {
    "id": "EZ_fhJkFXgv2"
   },
   "outputs": [],
   "source": [
    "class InfoTransformer(TransformerMixin):\n",
    "    \n",
    "    def __init__(self):\n",
    "        self.vectorizer = CountVectorizer(\n",
    "            lowercase=True, stop_words='english', analyzer='word')\n",
    "\n",
    "    def fit(self, X, y=None, **fit_params):\n",
    "        if 'info' in X.columns:\n",
    "            self.vectorizer.fit(X['info'])\n",
    "        return self\n",
    "\n",
    "    def transform(self, X, y=None, **fit_params):\n",
    "        if 'info' in X.columns:\n",
    "            return self.vectorizer.transform(X['info']).toarray()\n",
    "        return self\n",
    "\n"
   ]
  },
  {
   "cell_type": "code",
   "execution_count": 5,
   "metadata": {
    "id": "oLKGAPR1Xgv3"
   },
   "outputs": [],
   "source": [
    "class SpecTransformer:\n",
    "\n",
    "    def __init__(self):\n",
    "        self.mlb = MultiLabelBinarizer()\n",
    "        self.splitString = lambda x: x.split(',')\n",
    "\n",
    "    def fit(self, X, y=None, **fit_params):\n",
    "        X_ = [self.splitString(xi[0]) for xi in X]\n",
    "        self.mlb.fit(X_)\n",
    "        return self\n",
    "\n",
    "    def transform(self, X, y=None, **fit_params):\n",
    "        X_ = [self.splitString(xi[0]) for xi in X]\n",
    "        return self.mlb.fit_transform(X_)\n"
   ]
  },
  {
   "cell_type": "code",
   "execution_count": 6,
   "metadata": {
    "id": "kcx2rx6CXgv4"
   },
   "outputs": [],
   "source": [
    "featureTransformer = FeatureUnion([\n",
    "    ('workload_processing', Pipeline([('wrkld', WorkloadTransformer())])),\n",
    "    ('info_processing', Pipeline([('info', InfoTransformer())])),\n",
    "\n",
    "    # 21 columns\n",
    "    ('spec_processing', Pipeline([\n",
    "        ('col_spec', ColumnTransformer([\n",
    "            ('impute_specialisation', SimpleImputer(\n",
    "                strategy='constant', fill_value='Other'), ['specialisation'])\n",
    "        ])),\n",
    "        ('split', SpecTransformer())\n",
    "    ])),\n",
    "\n",
    "])\n",
    "\n",
    "featureTransformer.fit(courses)\n",
    "transformeed_courses = featureTransformer.transform(courses)\n"
   ]
  },
  {
   "cell_type": "markdown",
   "metadata": {
    "id": "Xtc4ObIlXgv5"
   },
   "source": [
    "Now we prepare our testing data in the same way we preprocessed the course. `students` data comprises of 1000 students and a list of modules they have taken. "
   ]
  },
  {
   "cell_type": "markdown",
   "metadata": {
    "id": "HQu6wIgYXgv6"
   },
   "source": [
    "Create `Xtest` and `Ytest` as two matrices. `Xtest`, of size `1000*5`, comprises of first five modules for every student in the list. `Ytest`, of size `1000*[remaining_modules]`, comprises of rest of the modules for every student in the list. \n",
    "We do so in order to assess the performance of the recommender. We assess the recommender based on its effectiveness to predict the modules given a list of five modules as the input.\n",
    "\n",
    "For instance: \n",
    "- `Xtest[0] = ['CS2105', 'CS4222', 'CS6270', 'CS6205', 'CS4226']`\n",
    "- `Ytest[0] = ['CS3282', 'CS6204', 'CS5223', 'CS3281', 'CS4344', 'CS5422', 'CS3237', 'CS5233']`.\n",
    "\n",
    "<div align=\"right\">(1 mark)</align>"
   ]
  },
  {
   "cell_type": "code",
   "execution_count": 9,
   "metadata": {
    "id": "R2t2xUhYXgv6"
   },
   "outputs": [],
   "source": [
    "# Write your code here\n",
    "def CoursesSeparator(df):\n",
    "    courses = df.courses.copy()\n",
    "    courses= courses.str.split(',')\n",
    "    Xtest = courses.apply(lambda x: x[:5])\n",
    "    Ytest = courses.apply(lambda x: x[5:])\n",
    "    return Xtest, Ytest\n",
    "\n",
    "\n",
    "Xtest, Ytest = CoursesSeparator(students)\n"
   ]
  },
  {
   "cell_type": "markdown",
   "metadata": {
    "id": "g8-D7LhvXgv7"
   },
   "source": [
    "For every student in `Xtest`, we need to transform the list of 5 modules to the feature space using the `featureTransformer` fit on the training data. For every module we will get a feature vector of size `n_features`. We add these feature vectors to get an aggregate feature vector for very student.\n",
    "\n",
    "Write a function `getFeatureVector` that takes in the list of modules and `featureTransformer`. It returns the feature vector for the specified list of courses. For instance, `getFeatureVector(Xtest[0], featureTransformer)` will return a vector of size `n_features`.\n",
    "\n",
    "<div align=\"right\">(3 marks)</div>"
   ]
  },
  {
   "cell_type": "code",
   "execution_count": 11,
   "metadata": {
    "id": "1FaBqoBPXgv7"
   },
   "outputs": [],
   "source": [
    "def getFeatureVector(modules, courses, featureTransformer):\n",
    "    transformed_courses = featureTransformer.transform(courses)\n",
    "\n",
    "    def getCourseCode(index):\n",
    "        course = courses.loc[courses.code == index]\n",
    "        if course.empty:\n",
    "            return -1\n",
    "\n",
    "        return course.index[0]\n",
    "\n",
    "    indexes = [int(x) for x in map(\n",
    "        lambda x:getCourseCode(x), modules)]\n",
    "    indexes = list(filter(lambda x: x >= 0, indexes))\n",
    "    return np.sum(transformed_courses[indexes, :], axis=0)\n",
    "\n",
    "\n",
    "for i in range(1,10):\n",
    "    getFeatureVector(Xtest[i], courses, featureTransformer)\n"
   ]
  },
  {
   "cell_type": "markdown",
   "metadata": {
    "id": "CuwxpWB2Xgv7"
   },
   "source": [
    "# Question 2: Content based recommender"
   ]
  },
  {
   "cell_type": "markdown",
   "metadata": {
    "id": "vJbpI-xdXgv8"
   },
   "source": [
    "We can use a model as simple as K-nearest neighbour (KNN) to perform a content based recommendation. If we provide a list of 5 modules to the recommender, it provide us a list of modules that are similar to the specified modules."
   ]
  },
  {
   "cell_type": "markdown",
   "metadata": {
    "id": "fQEMNzrcXgv8"
   },
   "source": [
    "`sklearn` provides `NearestNeighbors` as well as `KNeighborsClassifier`, both of which have a similar functionality. `NearestNeighbors` provides as an easy functionality to predict a list of K nearest neighbours. Therefore, we prefer it over `KNeighborsClassifier`. If we want to find K nearest points to a datapoint`d`, we need to use `n_neighbors` as K + 1 because the list includes `d` itself.\n",
    "\n",
    "You can now train the model using the training data, which comprises of `transformed_courses` and with their codes as the labels. \n",
    "<div align=\"right\">(1 mark)</div>"
   ]
  },
  {
   "cell_type": "code",
   "execution_count": 14,
   "metadata": {
    "id": "ezqrA0XsXgv8"
   },
   "outputs": [
    {
     "data": {
      "text/plain": [
       "NearestNeighbors()"
      ]
     },
     "execution_count": 14,
     "metadata": {},
     "output_type": "execute_result"
    }
   ],
   "source": [
    "K = 5\n",
    "model = NearestNeighbors(algorithm=\"auto\", n_neighbors=K)\n",
    "## Write your code here\n",
    "\n",
    "training_data = pd.DataFrame(transformeed_courses)\n",
    "training_data.index = courses.code\n",
    "\n",
    "model.fit(training_data.values)"
   ]
  },
  {
   "cell_type": "markdown",
   "metadata": {
    "id": "T_Oo47yaXgv9"
   },
   "source": [
    "It is time to see our model in action. Let's see what modules our model reommends based on the modules taken by a student.\n",
    "\n",
    "Write a function that takes in a *pre-trained* model of your choice as input and the list of modules. It returns the top-K recommendations of the model. Print the top 6 recommendations for the first student. \n",
    "<div align=\"right\">(3 marks)</div>"
   ]
  },
  {
   "cell_type": "code",
   "execution_count": 15,
   "metadata": {
    "id": "wH0yg5I6Xgv9"
   },
   "outputs": [
    {
     "name": "stdout",
     "output_type": "stream",
     "text": [
      "Top 6 Recommendations\n",
      "    modules   distance\n",
      "33   CS3203  42.011903\n",
      "34   CS3205  42.626283\n",
      "112  CS5223  46.054316\n",
      "12   CS2020  47.169906\n",
      "38   CS3216  47.634021\n",
      "39   CS3217  47.707442\n"
     ]
    }
   ],
   "source": [
    "\n",
    "def recommend(model, modulesTaken, featureTransformer, k=5):\n",
    "\n",
    "    # (1, 2134) shape\n",
    "    featureVector = getFeatureVector(modulesTaken, courses,\n",
    "                                     featureTransformer).reshape(1, -1)\n",
    "    distances, indices = model.kneighbors(featureVector, n_neighbors=k)\n",
    "    modules = courses.loc[indices[0], :].code\n",
    "\n",
    "    df = pd.DataFrame({\n",
    "        'modules': modules,\n",
    "        'distance': distances[0]\n",
    "    }, index=indices[0])\n",
    "    return df\n",
    "\n",
    "\n",
    "k = 6\n",
    "print(f'Top {k} Recommendations')\n",
    "print(recommend(model, Xtest[0], featureTransformer, k))\n"
   ]
  },
  {
   "cell_type": "markdown",
   "metadata": {
    "id": "NVVhPPoPXgv9"
   },
   "source": [
    "# Question 3: Recommender evaluation"
   ]
  },
  {
   "cell_type": "markdown",
   "metadata": {
    "id": "YrxDQQWCXgv-"
   },
   "source": [
    "Is this the model any good?. To do so, we use **precision** and **recall** as our metrics. `Ytest` consists of true labels for every students. Using those labels as the ground truth, compute the precision and recall for every student. Write a code that prints values of average precision and recall for a specific value of `K` over the `students` dataset. Print the value of average precision and average recall for `K= 10`.\n",
    "\n",
    "                                                                                                     (2 marks)"
   ]
  },
  {
   "cell_type": "code",
   "execution_count": 16,
   "metadata": {},
   "outputs": [],
   "source": [
    "\n",
    "def evaluate(y_pred, y_test):\n",
    "    # print(\"###########\")\n",
    "    relevant = set(y_test).intersection(set(y_pred))\n",
    "\n",
    "    # precision\n",
    "    # of recommended items that are relevant @K)/(# of recommended  items at K)\n",
    "    precision_score = 1 if len(y_pred) == 0 else len(relevant)/len(y_pred)\n",
    "    # print('Precision Score:', precision_score)\n",
    "\n",
    "    # recall\n",
    "    # of recommended items that are relevant @K)/(# of relevant items at K)\n",
    "    recall_score = 1 if len(y_test) == 0 else len(relevant)/len(y_test)\n",
    "    # print('Recall Score:', recall_score)\n",
    "\n",
    "    return precision_score, recall_score\n",
    "\n"
   ]
  },
  {
   "cell_type": "code",
   "execution_count": 19,
   "metadata": {
    "id": "IPyZswBBXgv-"
   },
   "outputs": [],
   "source": [
    "def calPrecisionRecallHelper(recommendations, y_test):\n",
    "    y_pred = recommendations.modules.unique()\n",
    "    return evaluate(y_pred, y_test)\n",
    "\n",
    "\n",
    "def calAveragePrecisionRecallHelperAtK(model,featureTransformer,K):\n",
    "    precision_scores = []\n",
    "    recall_scores = []\n",
    "    for i in range(students.shape[0]):\n",
    "        precision_score, recall_score = calPrecisionRecallHelper(\n",
    "            recommend(model, Xtest[i], featureTransformer, K), Ytest[i])\n",
    "\n",
    "        precision_scores.append(precision_score)\n",
    "        recall_scores.append(recall_score)\n",
    "\n",
    "    average_precision_score = np.mean(precision_scores)\n",
    "    average_recall_score = np.mean(recall_scores)\n",
    "\n",
    "    return average_precision_score, average_recall_score\n"
   ]
  },
  {
   "cell_type": "code",
   "execution_count": 21,
   "metadata": {},
   "outputs": [
    {
     "name": "stdout",
     "output_type": "stream",
     "text": [
      "Before PCA\n",
      "##################\n",
      "Solved at K = 10\n",
      "Average precision score 0.056799999999999996\n",
      "Average recall score 0.05604530541268157\n",
      "##################\n"
     ]
    }
   ],
   "source": [
    "K = 10\n",
    "average_precision_score, average_recall_score = calAveragePrecisionRecallHelperAtK(\n",
    "    model, featureTransformer, K)\n",
    "print('Before PCA')\n",
    "print('#########'*2)\n",
    "print('Solved at K =', K,)\n",
    "print('Average precision score', average_precision_score)\n",
    "print('Average recall score', average_recall_score)\n",
    "print('#########'*2)\n"
   ]
  },
  {
   "cell_type": "markdown",
   "metadata": {
    "id": "NeR2w7IpXgv-"
   },
   "source": [
    "We observe that both precision and recall is not really great. The reason might be igh feature dimension, which may even be noisy. Append the exisiting `featureTransformer` with a PCA to reduce the dimension. \n",
    "\n",
    "Print the value of average precision and recall for `K= 10` after the introduction of PCA.\n",
    "\n",
    "                                                                                                     (2 marks)"
   ]
  },
  {
   "cell_type": "code",
   "execution_count": 29,
   "metadata": {
    "id": "HNr2Tb56Xgv_"
   },
   "outputs": [
    {
     "name": "stdout",
     "output_type": "stream",
     "text": [
      "(184, 2133)\n"
     ]
    },
    {
     "data": {
      "text/plain": [
       "Text(0, 0.5, 'cumulative explained variance')"
      ]
     },
     "execution_count": 29,
     "metadata": {},
     "output_type": "execute_result"
    },
    {
     "data": {
      "image/png": "[encoded data removed]",
      "text/plain": [
       "<Figure size 432x288 with 1 Axes>"
      ]
     },
     "metadata": {
      "needs_background": "light"
     },
     "output_type": "display_data"
    }
   ],
   "source": [
    "# Write your code here\n",
    "pca = PCA(random_state=np.random.RandomState(42))\n",
    "\n",
    "pca.fit(transformeed_courses)\n",
    "print(transformeed_courses.shape)\n",
    "plt.plot(np.cumsum(pca.explained_variance_ratio_))\n",
    "plt.xlabel('number of components')\n",
    "plt.ylabel('cumulative explained variance')\n"
   ]
  },
  {
   "cell_type": "markdown",
   "metadata": {},
   "source": [
    "We see that 150 components explain about 90% of the variance in the dataset. Thus, those 100 components might be sufficient for our downstream tasks like prediction. \n"
   ]
  },
  {
   "cell_type": "code",
   "execution_count": 30,
   "metadata": {},
   "outputs": [
    {
     "data": {
      "text/plain": [
       "Pipeline(steps=[('featureTransformer',\n",
       "                 FeatureUnion(transformer_list=[('workload_processing',\n",
       "                                                 Pipeline(steps=[('wrkld',\n",
       "                                                                  <__main__.WorkloadTransformer object at 0x000001DC790B3288>)])),\n",
       "                                                ('info_processing',\n",
       "                                                 Pipeline(steps=[('info',\n",
       "                                                                  <__main__.InfoTransformer object at 0x000001DC790B3188>)])),\n",
       "                                                ('spec_processing',\n",
       "                                                 Pipeline(steps=[('col_spec',\n",
       "                                                                  ColumnTransformer(transformers=[('impute_specialisation',\n",
       "                                                                                                   SimpleImputer(fill_value='Other',\n",
       "                                                                                                                 strategy='constant'),\n",
       "                                                                                                   ['specialisation'])])),\n",
       "                                                                 ('split',\n",
       "                                                                  <__main__.SpecTransformer object at 0x000001DC790B3308>)]))])),\n",
       "                ('pca',\n",
       "                 PCA(n_components=125,\n",
       "                     random_state=RandomState(MT19937) at 0x1DC793D0598,\n",
       "                     svd_solver='randomized'))])"
      ]
     },
     "execution_count": 30,
     "metadata": {},
     "output_type": "execute_result"
    }
   ],
   "source": [
    "def getNoOfComponentsAt95Perc(result):\n",
    "    # number of components sufficient to explain 95% of the variance\n",
    "    arr = np.cumsum(result) > 0.95\n",
    "    return np.where(arr == True)[0][0]\n",
    "\n",
    "\n",
    "# featureTransformer => StandardScaler() => PCA\n",
    "pipeFeaturesTransformerPca = Pipeline([('featureTransformer', featureTransformer),\n",
    "                                      ('pca', PCA(n_components=getNoOfComponentsAt95Perc(\n",
    "                                          pca.explained_variance_ratio_), random_state=np.random.RandomState(42), svd_solver='randomized')),\n",
    "                                       ])\n",
    "\n",
    "\n",
    "pipeFeaturesTransformerPca.fit(courses)\n"
   ]
  },
  {
   "cell_type": "code",
   "execution_count": 31,
   "metadata": {},
   "outputs": [
    {
     "data": {
      "text/plain": [
       "NearestNeighbors(algorithm='brute', n_neighbors=10)"
      ]
     },
     "execution_count": 31,
     "metadata": {},
     "output_type": "execute_result"
    }
   ],
   "source": [
    "# Retrain K neightbors model\n",
    "K = 10\n",
    "pca_model = NearestNeighbors(algorithm=\"brute\", n_neighbors=K)\n",
    "transformeed_courses_pca = pipeFeaturesTransformerPca.transform(courses)\n",
    "training_data = pd.DataFrame(transformeed_courses_pca)\n",
    "training_data.index = courses.code\n",
    "\n",
    "pca_model.fit(training_data.values)\n"
   ]
  },
  {
   "cell_type": "code",
   "execution_count": 32,
   "metadata": {},
   "outputs": [
    {
     "name": "stdout",
     "output_type": "stream",
     "text": [
      "After PCA\n",
      "##################\n",
      "Solved at K = 10\n",
      "Average precision score 0.1159\n",
      "Average recall score 0.12371281427550779\n",
      "##################\n"
     ]
    }
   ],
   "source": [
    "K = 10\n",
    "average_precision_score, average_recall_score = calAveragePrecisionRecallHelperAtK(\n",
    "    pca_model, pipeFeaturesTransformerPca, K)\n",
    "print('After PCA')\n",
    "print('#########'*2)\n",
    "print('Solved at K =', K,)\n",
    "print('Average precision score', average_precision_score)\n",
    "print('Average recall score', average_recall_score)\n",
    "print('#########'*2)\n"
   ]
  },
  {
   "cell_type": "markdown",
   "metadata": {
    "id": "Ih2GatUQXgv_"
   },
   "source": [
    "Extend the code to perform a grid search for the value of `K` that provides the best `F1_score`. Try for values of K from 1 to 10.\n",
    "\n",
    "                                                                                                     (2 marks)"
   ]
  },
  {
   "cell_type": "code",
   "execution_count": 33,
   "metadata": {
    "id": "XzTUXzCnXgv_"
   },
   "outputs": [],
   "source": [
    "# Write your code here\n",
    "\n",
    "def f1(p, r):\n",
    "    if p + r == 0:\n",
    "        return 0\n",
    "    else:\n",
    "        return 2 * (p * r) / (p + r)\n",
    "\n",
    "F1_score = []\n",
    "Krange = range(1,11)\n",
    "for K in Krange:\n",
    "    average_precision_score, average_recall_score = calAveragePrecisionRecallHelperAtK(\n",
    "        pca_model, pipeFeaturesTransformerPca, K)\n",
    "    F1_score.append(f1(average_precision_score,average_recall_score))\n",
    "\n"
   ]
  },
  {
   "cell_type": "code",
   "execution_count": 34,
   "metadata": {},
   "outputs": [
    {
     "data": {
      "text/plain": [
       "Text(0.5, 0, 'K Value')"
      ]
     },
     "execution_count": 34,
     "metadata": {},
     "output_type": "execute_result"
    },
    {
     "data": {
      "image/png": "[encoded data removed]",
      "text/plain": [
       "<Figure size 432x288 with 1 Axes>"
      ]
     },
     "metadata": {
      "needs_background": "light"
     },
     "output_type": "display_data"
    }
   ],
   "source": [
    "plt.plot(Krange, F1_score)\n",
    "plt.ylabel('F1 Score')\n",
    "plt.xlabel('K Value')\n"
   ]
  },
  {
   "cell_type": "code",
   "execution_count": 35,
   "metadata": {},
   "outputs": [
    {
     "name": "stdout",
     "output_type": "stream",
     "text": [
      "Max F1 Value: 0.11967903484531592\n",
      "K Value at Max F1 Score: 10\n"
     ]
    }
   ],
   "source": [
    "print('Max F1 Value:',max(F1_score))\n",
    "print('K Value at Max F1 Score:',F1_score.index(max(F1_score))+1)"
   ]
  },
  {
   "cell_type": "markdown",
   "metadata": {
    "id": "g0R5ehXhXgv_"
   },
   "source": [
    "# Bonus question"
   ]
  },
  {
   "cell_type": "markdown",
   "metadata": {
    "id": "p2y3bYohXgv_"
   },
   "source": [
    "Can you provide some **concrete** (something that you can implement) suggestions to improve the performance of the system?\n",
    "\n",
    "                                                                                                    (2 marks)"
   ]
  },
  {
   "cell_type": "markdown",
   "metadata": {},
   "source": [
    "One of the efficiency in the model could be contributed by the transformation of `info` column using the CountVectorizer which generated 2000+ unique features made up of words appeared in all the `info` fields. Many of these features are words that has not much meaning such as, introduces, module, students etc. There one suggestion to improve the performace of the system is to filter out words that descibes the course out of all the noise. This would require some domain knowledge on what the words used to descibe a course. I am confident doing this would improve the performance of the system"
   ]
  },
  {
   "cell_type": "markdown",
   "metadata": {},
   "source": []
  }
 ],
 "metadata": {
  "colab": {
   "name": "Assignment_2.ipynb",
   "provenance": []
  },
  "kernelspec": {
   "display_name": "Python 3",
   "language": "python",
   "name": "python3"
  },
  "language_info": {
   "codemirror_mode": {
    "name": "ipython",
    "version": 3
   },
   "file_extension": ".py",
   "mimetype": "text/x-python",
   "name": "python",
   "nbconvert_exporter": "python",
   "pygments_lexer": "ipython3",
   "version": "3.7.9"
  }
 },
 "nbformat": 4,
 "nbformat_minor": 1
}
