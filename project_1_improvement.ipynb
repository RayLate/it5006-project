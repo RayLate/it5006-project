{
 "cells": [
  {
   "cell_type": "code",
   "execution_count": 1,
   "metadata": {},
   "outputs": [],
   "source": [
    "import pandas as pd\n",
    "import numpy as np\n",
    "import statsmodels.api as sm\n",
    "import matplotlib.pyplot as plt\n",
    "import seaborn as sns\n",
    "from sklearn.preprocessing import StandardScaler, OneHotEncoder, Normalizer\n",
    "from sklearn.model_selection import train_test_split\n",
    "from sklearn.pipeline import Pipeline\n",
    "from sklearn.compose import make_column_selector, make_column_transformer\n",
    "from sklearn.ensemble import RandomForestClassifier\n",
    "from sklearn.feature_selection import f_regression\n",
    "from sklearn.feature_selection import SelectKBest\n",
    "from sklearn.metrics import mean_squared_error, r2_score\n"
   ]
  },
  {
   "cell_type": "markdown",
   "metadata": {},
   "source": []
  },
  {
   "cell_type": "code",
   "execution_count": 9,
   "metadata": {},
   "outputs": [],
   "source": [
    "def cleanData(df):\n",
    "    def calculateAge(month: str, lease_commence_date: float) -> int:\n",
    "        # calculate years of lease remaining, using 99 years as default, round up to the nearest year\n",
    "        sold_year = month.strftime('%Y')\n",
    "        return max(int(int(sold_year) - lease_commence_date), 0)\n",
    "\n",
    "    def classifyModel(model):\n",
    "        if 'Maisonette' in model or 'Generation' in model:\n",
    "            return 'Maisonette'\n",
    "        elif 'Type' in model:\n",
    "            return 'Type'\n",
    "        elif 'Model' in model:\n",
    "            return 'Model'\n",
    "        elif 'Apartment' in model:\n",
    "            return 'Apartment'\n",
    "        else:\n",
    "            return model\n",
    "\n",
    "    df['month'] = pd.to_datetime(df['month'])\n",
    "    df['age'] = df.apply(\n",
    "        lambda x: calculateAge(x['month'], x['lease_commence_date']), axis=1)\n",
    "    df['sold_year'] = df['month'].dt.strftime('%Y')\n",
    "    df['flat_model'] = df['flat_model'].apply(classifyModel)\n",
    "    df = df.dropna(axis=1)\n",
    "    try:\n",
    "        return df[['town', 'flat_type', 'storey_range', 'floor_area_sqm', 'flat_model', 'age', 'sold_year']].copy(), df[['resale_price']].copy()\n",
    "\n",
    "    except:\n",
    "        return df[['town', 'flat_type', 'storey_range', 'floor_area_sqm', 'flat_model', 'age', 'sold_year']].copy()\n"
   ]
  },
  {
   "cell_type": "code",
   "execution_count": 10,
   "metadata": {},
   "outputs": [],
   "source": [
    "df = pd.read_csv('./train.csv')\n",
    "X, Y =cleanData(df)"
   ]
  },
  {
   "cell_type": "code",
   "execution_count": 12,
   "metadata": {},
   "outputs": [
    {
     "data": {
      "text/plain": [
       "array(['Simplified', 'Improved', 'Apartment', 'Maisonette', 'Model',\n",
       "       'DBSS', 'Adjoined flat', 'Standard', 'Terrace', 'Type', '2-room'],\n",
       "      dtype=object)"
      ]
     },
     "execution_count": 12,
     "metadata": {},
     "output_type": "execute_result"
    }
   ],
   "source": [
    "df['flat_model'].unique()"
   ]
  },
  {
   "cell_type": "code",
   "execution_count": 13,
   "metadata": {},
   "outputs": [
    {
     "data": {
      "image/png": "[encoded data removed]",
      "text/plain": [
       "<Figure size 360x360 with 1 Axes>"
      ]
     },
     "metadata": {
      "needs_background": "light"
     },
     "output_type": "display_data"
    },
    {
     "data": {
      "image/png": "[encoded data removed]",
      "text/plain": [
       "<Figure size 360x360 with 1 Axes>"
      ]
     },
     "metadata": {
      "needs_background": "light"
     },
     "output_type": "display_data"
    }
   ],
   "source": [
    "for col in list(X.select_dtypes(['number']).columns):\n",
    "    sns.displot(X[col])\n",
    "\n",
    "plt.show()\n"
   ]
  },
  {
   "cell_type": "code",
   "execution_count": 14,
   "metadata": {},
   "outputs": [
    {
     "name": "stdout",
     "output_type": "stream",
     "text": [
      "town 26\n",
      "flat_type 7\n",
      "storey_range 25\n",
      "flat_model 11\n",
      "sold_year 23\n"
     ]
    },
    {
     "data": {
      "text/plain": [
       "94"
      ]
     },
     "execution_count": 14,
     "metadata": {},
     "output_type": "execute_result"
    }
   ],
   "source": [
    "total = 0\n",
    "for col in X.select_dtypes('object'):\n",
    "    total += len(list(X[col].unique()))\n",
    "    print(col, len(list(X[col].unique())))\n",
    "\n",
    "total += len(X.select_dtypes('number').columns)\n",
    "total\n"
   ]
  },
  {
   "cell_type": "code",
   "execution_count": 15,
   "metadata": {},
   "outputs": [],
   "source": [
    "# Apply StandardScaler and Normalizer to numeric data (new)\n",
    "\n",
    "ct = make_column_transformer(\n",
    "    (Pipeline([\n",
    "        ('scaler', StandardScaler()),\n",
    "        ('normalize', Normalizer()),\n",
    "    ]),\n",
    "     make_column_selector(dtype_include=np.number)),  \n",
    "    (OneHotEncoder(drop='first'),\n",
    "     make_column_selector(dtype_include=object)))  \n",
    "\n",
    "ct.fit(X)\n",
    "preprocessed_df = ct.transform(X)\n"
   ]
  },
  {
   "cell_type": "code",
   "execution_count": 16,
   "metadata": {},
   "outputs": [
    {
     "data": {
      "text/plain": [
       "(462515, 89)"
      ]
     },
     "execution_count": 16,
     "metadata": {},
     "output_type": "execute_result"
    }
   ],
   "source": [
    "\n",
    "preprocessed_df.shape\n"
   ]
  },
  {
   "cell_type": "code",
   "execution_count": 17,
   "metadata": {},
   "outputs": [
    {
     "data": {
      "text/plain": [
       "'\\nX_train, X_test, y_train, y_test = train_test_split(preprocessed_df, Y,test_size=0.33, random_state=42)\\ntunningResults = []\\nfor i in range(40, X_train.shape[1]):\\n    selectbest = SelectKBest(\\n        score_func=f_regression, k=i)\\n    X_selected = selectbest.fit_transform(X_train, y_train)\\n    est = sm.OLS(y_train.values.ravel(),\\n                 sm.add_constant(X_selected.toarray())).fit()\\n    kSelectColumnFilter = []\\n    for i in range(len(selectbest.get_support())):\\n        if selectbest.get_support()[i]:\\n            kSelectColumnFilter.append(i)\\n    y_pred = est.predict(sm.add_constant(\\n        X_test[:, kSelectColumnFilter].toarray()))\\n    # print(est.summary())\\n    tunningResults.append((est.rsquared_adj, mean_squared_error(\\n        y_test, y_pred), r2_score(y_test, y_pred)))\\n'"
      ]
     },
     "execution_count": 17,
     "metadata": {},
     "output_type": "execute_result"
    }
   ],
   "source": [
    "# Select most influenctial Features using based on the f-value\n",
    "# tuning value of k, features to select\n",
    "'''\n",
    "X_train, X_test, y_train, y_test = train_test_split(preprocessed_df, Y,test_size=0.33, random_state=42)\n",
    "tunningResults = []\n",
    "for i in range(40, X_train.shape[1]):\n",
    "    selectbest = SelectKBest(\n",
    "        score_func=f_regression, k=i)\n",
    "    X_selected = selectbest.fit_transform(X_train, y_train)\n",
    "    est = sm.OLS(y_train.values.ravel(),\n",
    "                 sm.add_constant(X_selected.toarray())).fit()\n",
    "    kSelectColumnFilter = []\n",
    "    for i in range(len(selectbest.get_support())):\n",
    "        if selectbest.get_support()[i]:\n",
    "            kSelectColumnFilter.append(i)\n",
    "    y_pred = est.predict(sm.add_constant(\n",
    "        X_test[:, kSelectColumnFilter].toarray()))\n",
    "    # print(est.summary())\n",
    "    tunningResults.append((est.rsquared_adj, mean_squared_error(\n",
    "        y_test, y_pred), r2_score(y_test, y_pred)))\n",
    "'''\n",
    "\n",
    "# rsquared_adj.index(max(rsquared_adj))\n",
    "\n",
    "# sns.lineplot(rsquared_adj,range(1,preprocessed_df.shape[1]))\n",
    "# result of this is 96\n"
   ]
  },
  {
   "cell_type": "code",
   "execution_count": 18,
   "metadata": {},
   "outputs": [],
   "source": [
    "\n",
    "\n",
    "# selectbest = SelectKBest(\n",
    "#     f_regression, k=98)\n",
    "# X_selected = selectbest.fit_transform(preprocessed_df, Y)\n",
    "est = sm.OLS(Y.values.ravel(), sm.add_constant(preprocessed_df.toarray())).fit()\n"
   ]
  },
  {
   "cell_type": "code",
   "execution_count": 19,
   "metadata": {},
   "outputs": [],
   "source": [
    "# kSelectColumnFilter = []\n",
    "# for i in range(len(selectbest.get_support())):\n",
    "#     if selectbest.get_support()[i]:\n",
    "#         kSelectColumnFilter.append(i)\n",
    "\n",
    "# selectbest.get_support().shape\n"
   ]
  },
  {
   "cell_type": "code",
   "execution_count": 20,
   "metadata": {},
   "outputs": [
    {
     "name": "stdout",
     "output_type": "stream",
     "text": [
      "                            OLS Regression Results                            \n",
      "==============================================================================\n",
      "Dep. Variable:                      y   R-squared:                       0.885\n",
      "Model:                            OLS   Adj. R-squared:                  0.885\n",
      "Method:                 Least Squares   F-statistic:                 3.986e+04\n",
      "Date:                Tue, 19 Apr 2022   Prob (F-statistic):               0.00\n",
      "Time:                        23:07:11   Log-Likelihood:            -5.6738e+06\n",
      "No. Observations:              462515   AIC:                         1.135e+07\n",
      "Df Residuals:                  462425   BIC:                         1.135e+07\n",
      "Df Model:                          89                                         \n",
      "Covariance Type:            nonrobust                                         \n",
      "==============================================================================\n",
      "                 coef    std err          t      P>|t|      [0.025      0.975]\n",
      "------------------------------------------------------------------------------\n",
      "const       4.972e+04   1.11e+04      4.476      0.000    2.79e+04    7.15e+04\n",
      "x1         -6643.8450    271.309    -24.488      0.000   -7175.603   -6112.087\n",
      "x2         -2.929e+04    171.869   -170.410      0.000   -2.96e+04    -2.9e+04\n",
      "x3         -1.253e+04    458.890    -27.302      0.000   -1.34e+04   -1.16e+04\n",
      "x4          5.718e+04    651.769     87.736      0.000    5.59e+04    5.85e+04\n",
      "x5         -4.672e+04    512.399    -91.177      0.000   -4.77e+04   -4.57e+04\n",
      "x6          6.928e+04    552.365    125.418      0.000    6.82e+04    7.04e+04\n",
      "x7         -9.543e+04    566.522   -168.451      0.000   -9.65e+04   -9.43e+04\n",
      "x8          1.132e+05   1546.846     73.199      0.000     1.1e+05    1.16e+05\n",
      "x9          5.659e+04   1037.779     54.526      0.000    5.46e+04    5.86e+04\n",
      "x10        -9.164e+04    530.386   -172.779      0.000   -9.27e+04   -9.06e+04\n",
      "x11         1.596e+04    573.425     27.829      0.000    1.48e+04    1.71e+04\n",
      "x12         1.371e+04    596.814     22.979      0.000    1.25e+04    1.49e+04\n",
      "x13        -4.549e+04    491.972    -92.458      0.000   -4.65e+04   -4.45e+04\n",
      "x14        -4.315e+04    591.469    -72.956      0.000   -4.43e+04    -4.2e+04\n",
      "x15        -8.399e+04    472.398   -177.797      0.000   -8.49e+04   -8.31e+04\n",
      "x16         2.897e+04    590.123     49.092      0.000    2.78e+04    3.01e+04\n",
      "x17         1.049e+05    969.119    108.281      0.000    1.03e+05    1.07e+05\n",
      "x18        -4.805e+04    570.330    -84.250      0.000   -4.92e+04   -4.69e+04\n",
      "x19        -7.765e+04    642.859   -120.787      0.000   -7.89e+04   -7.64e+04\n",
      "x20         6.945e+04    604.969    114.792      0.000    6.83e+04    7.06e+04\n",
      "x21        -1.238e+05    682.199   -181.472      0.000   -1.25e+05   -1.22e+05\n",
      "x22        -9.235e+04    552.038   -167.297      0.000   -9.34e+04   -9.13e+04\n",
      "x23        -9376.8564    621.075    -15.098      0.000   -1.06e+04   -8159.569\n",
      "x24        -2.229e+04    469.194    -47.501      0.000   -2.32e+04   -2.14e+04\n",
      "x25         3.018e+04    572.819     52.689      0.000    2.91e+04    3.13e+04\n",
      "x26        -9.544e+04    466.619   -204.544      0.000   -9.64e+04   -9.45e+04\n",
      "x27        -6.589e+04    474.218   -138.948      0.000   -6.68e+04    -6.5e+04\n",
      "x28         8.233e+04   2807.240     29.327      0.000    7.68e+04    8.78e+04\n",
      "x29         1.625e+05   2709.002     59.981      0.000    1.57e+05    1.68e+05\n",
      "x30         2.569e+05   2723.583     94.311      0.000    2.52e+05    2.62e+05\n",
      "x31         3.765e+05   2746.983    137.043      0.000    3.71e+05    3.82e+05\n",
      "x32         4.579e+05   2774.505    165.046      0.000    4.52e+05    4.63e+05\n",
      "x33         5.246e+05   4561.787    115.003      0.000    5.16e+05    5.34e+05\n",
      "x34        -7985.4636   1194.674     -6.684      0.000   -1.03e+04   -5643.939\n",
      "x35         8861.7225    228.480     38.786      0.000    8413.909    9309.536\n",
      "x36         5462.9813   1250.829      4.367      0.000    3011.394    7914.568\n",
      "x37         1.622e+04    234.913     69.054      0.000    1.58e+04    1.67e+04\n",
      "x38          2.15e+04    244.501     87.934      0.000     2.1e+04     2.2e+04\n",
      "x39         1.721e+04   1686.358     10.206      0.000    1.39e+04    2.05e+04\n",
      "x40         3.068e+04    335.789     91.371      0.000       3e+04    3.13e+04\n",
      "x41         5.053e+04    484.938    104.199      0.000    4.96e+04    5.15e+04\n",
      "x42         5.072e+04   3661.749     13.850      0.000    4.35e+04    5.79e+04\n",
      "x43         7.795e+04    694.340    112.263      0.000    7.66e+04    7.93e+04\n",
      "x44         9.782e+04   5885.337     16.621      0.000    8.63e+04    1.09e+05\n",
      "x45         9.518e+04    853.397    111.531      0.000    9.35e+04    9.69e+04\n",
      "x46         1.139e+05   1215.222     93.751      0.000    1.12e+05    1.16e+05\n",
      "x47         1.196e+05   9257.858     12.915      0.000    1.01e+05    1.38e+05\n",
      "x48         1.482e+05   1642.797     90.220      0.000    1.45e+05    1.51e+05\n",
      "x49         1.905e+05   2823.231     67.472      0.000    1.85e+05    1.96e+05\n",
      "x50         1.504e+05   3.64e+04      4.133      0.000    7.91e+04    2.22e+05\n",
      "x51         2.055e+05   3027.683     67.859      0.000       2e+05    2.11e+05\n",
      "x52           1.5e+05    2.1e+04      7.138      0.000    1.09e+05    1.91e+05\n",
      "x53         2.033e+05   3075.306     66.110      0.000    1.97e+05    2.09e+05\n",
      "x54         2.329e+05   4226.753     55.094      0.000    2.25e+05    2.41e+05\n",
      "x55         2.401e+05   8944.551     26.838      0.000    2.23e+05    2.58e+05\n",
      "x56         2.145e+05   1.05e+04     20.363      0.000    1.94e+05    2.35e+05\n",
      "x57         2.153e+05   1.57e+04     13.680      0.000    1.84e+05    2.46e+05\n",
      "x58        -3.949e+04   1.09e+04     -3.624      0.000   -6.09e+04   -1.81e+04\n",
      "x59        -3.901e+04   1.08e+04     -3.624      0.000   -6.01e+04   -1.79e+04\n",
      "x60         1.144e+05   1.08e+04     10.569      0.000    9.32e+04    1.36e+05\n",
      "x61        -7.189e+04   1.08e+04     -6.680      0.000    -9.3e+04   -5.08e+04\n",
      "x62        -4.296e+04   1.08e+04     -3.991      0.000   -6.41e+04   -2.19e+04\n",
      "x63        -2.535e+04   1.08e+04     -2.355      0.019   -4.64e+04   -4253.554\n",
      "x64        -7.714e+04   1.08e+04     -7.164      0.000   -9.82e+04    -5.6e+04\n",
      "x65        -9.502e+04   1.08e+04     -8.827      0.000   -1.16e+05   -7.39e+04\n",
      "x66         2.936e+05   1.11e+04     26.412      0.000    2.72e+05    3.15e+05\n",
      "x67         2.086e+05   1.11e+04     18.747      0.000    1.87e+05     2.3e+05\n",
      "x68        -1.931e+04    426.960    -45.225      0.000   -2.01e+04   -1.85e+04\n",
      "x69        -2.545e+04    432.722    -58.816      0.000   -2.63e+04   -2.46e+04\n",
      "x70        -1.484e+04    458.372    -32.374      0.000   -1.57e+04   -1.39e+04\n",
      "x71        -6398.4195    459.710    -13.918      0.000   -7299.436   -5497.402\n",
      "x72        -1.405e+04    457.053    -30.744      0.000   -1.49e+04   -1.32e+04\n",
      "x73        -1.651e+04    469.162    -35.188      0.000   -1.74e+04   -1.56e+04\n",
      "x74         2755.7440    473.617      5.819      0.000    1827.469    3684.019\n",
      "x75         5.814e+04    472.986    122.920      0.000    5.72e+04    5.91e+04\n",
      "x76         8.043e+04    460.794    174.553      0.000    7.95e+04    8.13e+04\n",
      "x77         1.273e+05    448.545    283.837      0.000    1.26e+05    1.28e+05\n",
      "x78         1.756e+05    505.193    347.589      0.000    1.75e+05    1.77e+05\n",
      "x79         2.148e+05    558.003    385.008      0.000    2.14e+05    2.16e+05\n",
      "x80         2.303e+05    562.963    409.059      0.000    2.29e+05    2.31e+05\n",
      "x81         2.016e+05    564.124    357.283      0.000       2e+05    2.03e+05\n",
      "x82         1.842e+05    549.687    335.150      0.000    1.83e+05    1.85e+05\n",
      "x83         1.854e+05    536.843    345.318      0.000    1.84e+05    1.86e+05\n",
      "x84         1.842e+05    529.221    348.086      0.000    1.83e+05    1.85e+05\n",
      "x85         1.797e+05    524.334    342.686      0.000    1.79e+05    1.81e+05\n",
      "x86         1.782e+05    518.531    343.706      0.000    1.77e+05    1.79e+05\n",
      "x87         1.901e+05    511.200    371.831      0.000    1.89e+05    1.91e+05\n",
      "x88         2.404e+05    485.871    494.723      0.000    2.39e+05    2.41e+05\n",
      "x89         2.661e+05   1218.260    218.456      0.000    2.64e+05    2.69e+05\n",
      "==============================================================================\n",
      "Omnibus:                    90049.073   Durbin-Watson:                   1.999\n",
      "Prob(Omnibus):                  0.000   Jarque-Bera (JB):           353091.525\n",
      "Skew:                           0.932   Prob(JB):                         0.00\n",
      "Kurtosis:                       6.853   Cond. No.                         645.\n",
      "==============================================================================\n",
      "\n",
      "Notes:\n",
      "[1] Standard Errors assume that the covariance matrix of the errors is correctly specified.\n"
     ]
    }
   ],
   "source": [
    "print(est.summary())\n"
   ]
  },
  {
   "cell_type": "code",
   "execution_count": 21,
   "metadata": {},
   "outputs": [
    {
     "data": {
      "text/plain": [
       "90"
      ]
     },
     "execution_count": 21,
     "metadata": {},
     "output_type": "execute_result"
    }
   ],
   "source": [
    "len(est.pvalues)\n"
   ]
  },
  {
   "cell_type": "code",
   "execution_count": 22,
   "metadata": {},
   "outputs": [
    {
     "name": "stdout",
     "output_type": "stream",
     "text": [
      "90\n"
     ]
    },
    {
     "data": {
      "text/plain": [
       "[0,\n",
       " 1,\n",
       " 2,\n",
       " 3,\n",
       " 4,\n",
       " 5,\n",
       " 6,\n",
       " 7,\n",
       " 8,\n",
       " 9,\n",
       " 10,\n",
       " 11,\n",
       " 12,\n",
       " 13,\n",
       " 14,\n",
       " 15,\n",
       " 16,\n",
       " 17,\n",
       " 18,\n",
       " 19,\n",
       " 20,\n",
       " 21,\n",
       " 22,\n",
       " 23,\n",
       " 24,\n",
       " 25,\n",
       " 26,\n",
       " 27,\n",
       " 28,\n",
       " 29,\n",
       " 30,\n",
       " 31,\n",
       " 32,\n",
       " 33,\n",
       " 34,\n",
       " 35,\n",
       " 36,\n",
       " 37,\n",
       " 38,\n",
       " 39,\n",
       " 40,\n",
       " 41,\n",
       " 42,\n",
       " 43,\n",
       " 44,\n",
       " 45,\n",
       " 46,\n",
       " 47,\n",
       " 48,\n",
       " 49,\n",
       " 50,\n",
       " 51,\n",
       " 52,\n",
       " 53,\n",
       " 54,\n",
       " 55,\n",
       " 56,\n",
       " 57,\n",
       " 58,\n",
       " 59,\n",
       " 60,\n",
       " 61,\n",
       " 62,\n",
       " 63,\n",
       " 64,\n",
       " 65,\n",
       " 66,\n",
       " 67,\n",
       " 68,\n",
       " 69,\n",
       " 70,\n",
       " 71,\n",
       " 72,\n",
       " 73,\n",
       " 74,\n",
       " 75,\n",
       " 76,\n",
       " 77,\n",
       " 78,\n",
       " 79,\n",
       " 80,\n",
       " 81,\n",
       " 82,\n",
       " 83,\n",
       " 84,\n",
       " 85,\n",
       " 86,\n",
       " 87,\n",
       " 88]"
      ]
     },
     "execution_count": 22,
     "metadata": {},
     "output_type": "execute_result"
    }
   ],
   "source": [
    "featureFilter = list(map(lambda x:x <0.05, est.pvalues))\n",
    "print(len(featureFilter))\n",
    "kSelectColumnFilter = []\n",
    "for i in range(1,len(featureFilter)):\n",
    "    if featureFilter[i]:\n",
    "        kSelectColumnFilter.append(i-1)\n",
    "kSelectColumnFilter\n"
   ]
  },
  {
   "cell_type": "code",
   "execution_count": 23,
   "metadata": {},
   "outputs": [
    {
     "data": {
      "text/plain": [
       "<462515x89 sparse matrix of type '<class 'numpy.float64'>'\n",
       "\twith 3093940 stored elements in Compressed Sparse Row format>"
      ]
     },
     "execution_count": 23,
     "metadata": {},
     "output_type": "execute_result"
    }
   ],
   "source": [
    "preprocessed_df[:, kSelectColumnFilter]\n"
   ]
  },
  {
   "cell_type": "code",
   "execution_count": 24,
   "metadata": {},
   "outputs": [],
   "source": [
    "# retrain \n",
    "est = sm.OLS(Y.values.ravel(), sm.add_constant(\n",
    "    preprocessed_df[:, kSelectColumnFilter].toarray())).fit()\n"
   ]
  },
  {
   "cell_type": "code",
   "execution_count": 25,
   "metadata": {},
   "outputs": [
    {
     "name": "stdout",
     "output_type": "stream",
     "text": [
      "                            OLS Regression Results                            \n",
      "==============================================================================\n",
      "Dep. Variable:                      y   R-squared:                       0.885\n",
      "Model:                            OLS   Adj. R-squared:                  0.885\n",
      "Method:                 Least Squares   F-statistic:                 3.986e+04\n",
      "Date:                Tue, 19 Apr 2022   Prob (F-statistic):               0.00\n",
      "Time:                        23:07:36   Log-Likelihood:            -5.6738e+06\n",
      "No. Observations:              462515   AIC:                         1.135e+07\n",
      "Df Residuals:                  462425   BIC:                         1.135e+07\n",
      "Df Model:                          89                                         \n",
      "Covariance Type:            nonrobust                                         \n",
      "==============================================================================\n",
      "                 coef    std err          t      P>|t|      [0.025      0.975]\n",
      "------------------------------------------------------------------------------\n",
      "const       4.972e+04   1.11e+04      4.476      0.000    2.79e+04    7.15e+04\n",
      "x1         -6643.8450    271.309    -24.488      0.000   -7175.603   -6112.087\n",
      "x2         -2.929e+04    171.869   -170.410      0.000   -2.96e+04    -2.9e+04\n",
      "x3         -1.253e+04    458.890    -27.302      0.000   -1.34e+04   -1.16e+04\n",
      "x4          5.718e+04    651.769     87.736      0.000    5.59e+04    5.85e+04\n",
      "x5         -4.672e+04    512.399    -91.177      0.000   -4.77e+04   -4.57e+04\n",
      "x6          6.928e+04    552.365    125.418      0.000    6.82e+04    7.04e+04\n",
      "x7         -9.543e+04    566.522   -168.451      0.000   -9.65e+04   -9.43e+04\n",
      "x8          1.132e+05   1546.846     73.199      0.000     1.1e+05    1.16e+05\n",
      "x9          5.659e+04   1037.779     54.526      0.000    5.46e+04    5.86e+04\n",
      "x10        -9.164e+04    530.386   -172.779      0.000   -9.27e+04   -9.06e+04\n",
      "x11         1.596e+04    573.425     27.829      0.000    1.48e+04    1.71e+04\n",
      "x12         1.371e+04    596.814     22.979      0.000    1.25e+04    1.49e+04\n",
      "x13        -4.549e+04    491.972    -92.458      0.000   -4.65e+04   -4.45e+04\n",
      "x14        -4.315e+04    591.469    -72.956      0.000   -4.43e+04    -4.2e+04\n",
      "x15        -8.399e+04    472.398   -177.797      0.000   -8.49e+04   -8.31e+04\n",
      "x16         2.897e+04    590.123     49.092      0.000    2.78e+04    3.01e+04\n",
      "x17         1.049e+05    969.119    108.281      0.000    1.03e+05    1.07e+05\n",
      "x18        -4.805e+04    570.330    -84.250      0.000   -4.92e+04   -4.69e+04\n",
      "x19        -7.765e+04    642.859   -120.787      0.000   -7.89e+04   -7.64e+04\n",
      "x20         6.945e+04    604.969    114.792      0.000    6.83e+04    7.06e+04\n",
      "x21        -1.238e+05    682.199   -181.472      0.000   -1.25e+05   -1.22e+05\n",
      "x22        -9.235e+04    552.038   -167.297      0.000   -9.34e+04   -9.13e+04\n",
      "x23        -9376.8564    621.075    -15.098      0.000   -1.06e+04   -8159.569\n",
      "x24        -2.229e+04    469.194    -47.501      0.000   -2.32e+04   -2.14e+04\n",
      "x25         3.018e+04    572.819     52.689      0.000    2.91e+04    3.13e+04\n",
      "x26        -9.544e+04    466.619   -204.544      0.000   -9.64e+04   -9.45e+04\n",
      "x27        -6.589e+04    474.218   -138.948      0.000   -6.68e+04    -6.5e+04\n",
      "x28         8.233e+04   2807.240     29.327      0.000    7.68e+04    8.78e+04\n",
      "x29         1.625e+05   2709.002     59.981      0.000    1.57e+05    1.68e+05\n",
      "x30         2.569e+05   2723.583     94.311      0.000    2.52e+05    2.62e+05\n",
      "x31         3.765e+05   2746.983    137.043      0.000    3.71e+05    3.82e+05\n",
      "x32         4.579e+05   2774.505    165.046      0.000    4.52e+05    4.63e+05\n",
      "x33         5.246e+05   4561.787    115.003      0.000    5.16e+05    5.34e+05\n",
      "x34        -7985.4636   1194.674     -6.684      0.000   -1.03e+04   -5643.939\n",
      "x35         8861.7225    228.480     38.786      0.000    8413.909    9309.536\n",
      "x36         5462.9813   1250.829      4.367      0.000    3011.394    7914.568\n",
      "x37         1.622e+04    234.913     69.054      0.000    1.58e+04    1.67e+04\n",
      "x38          2.15e+04    244.501     87.934      0.000     2.1e+04     2.2e+04\n",
      "x39         1.721e+04   1686.358     10.206      0.000    1.39e+04    2.05e+04\n",
      "x40         3.068e+04    335.789     91.371      0.000       3e+04    3.13e+04\n",
      "x41         5.053e+04    484.938    104.199      0.000    4.96e+04    5.15e+04\n",
      "x42         5.072e+04   3661.749     13.850      0.000    4.35e+04    5.79e+04\n",
      "x43         7.795e+04    694.340    112.263      0.000    7.66e+04    7.93e+04\n",
      "x44         9.782e+04   5885.337     16.621      0.000    8.63e+04    1.09e+05\n",
      "x45         9.518e+04    853.397    111.531      0.000    9.35e+04    9.69e+04\n",
      "x46         1.139e+05   1215.222     93.751      0.000    1.12e+05    1.16e+05\n",
      "x47         1.196e+05   9257.858     12.915      0.000    1.01e+05    1.38e+05\n",
      "x48         1.482e+05   1642.797     90.220      0.000    1.45e+05    1.51e+05\n",
      "x49         1.905e+05   2823.231     67.472      0.000    1.85e+05    1.96e+05\n",
      "x50         1.504e+05   3.64e+04      4.133      0.000    7.91e+04    2.22e+05\n",
      "x51         2.055e+05   3027.683     67.859      0.000       2e+05    2.11e+05\n",
      "x52           1.5e+05    2.1e+04      7.138      0.000    1.09e+05    1.91e+05\n",
      "x53         2.033e+05   3075.306     66.110      0.000    1.97e+05    2.09e+05\n",
      "x54         2.329e+05   4226.753     55.094      0.000    2.25e+05    2.41e+05\n",
      "x55         2.401e+05   8944.551     26.838      0.000    2.23e+05    2.58e+05\n",
      "x56         2.145e+05   1.05e+04     20.363      0.000    1.94e+05    2.35e+05\n",
      "x57         2.153e+05   1.57e+04     13.680      0.000    1.84e+05    2.46e+05\n",
      "x58        -3.949e+04   1.09e+04     -3.624      0.000   -6.09e+04   -1.81e+04\n",
      "x59        -3.901e+04   1.08e+04     -3.624      0.000   -6.01e+04   -1.79e+04\n",
      "x60         1.144e+05   1.08e+04     10.569      0.000    9.32e+04    1.36e+05\n",
      "x61        -7.189e+04   1.08e+04     -6.680      0.000    -9.3e+04   -5.08e+04\n",
      "x62        -4.296e+04   1.08e+04     -3.991      0.000   -6.41e+04   -2.19e+04\n",
      "x63        -2.535e+04   1.08e+04     -2.355      0.019   -4.64e+04   -4253.554\n",
      "x64        -7.714e+04   1.08e+04     -7.164      0.000   -9.82e+04    -5.6e+04\n",
      "x65        -9.502e+04   1.08e+04     -8.827      0.000   -1.16e+05   -7.39e+04\n",
      "x66         2.936e+05   1.11e+04     26.412      0.000    2.72e+05    3.15e+05\n",
      "x67         2.086e+05   1.11e+04     18.747      0.000    1.87e+05     2.3e+05\n",
      "x68        -1.931e+04    426.960    -45.225      0.000   -2.01e+04   -1.85e+04\n",
      "x69        -2.545e+04    432.722    -58.816      0.000   -2.63e+04   -2.46e+04\n",
      "x70        -1.484e+04    458.372    -32.374      0.000   -1.57e+04   -1.39e+04\n",
      "x71        -6398.4195    459.710    -13.918      0.000   -7299.436   -5497.402\n",
      "x72        -1.405e+04    457.053    -30.744      0.000   -1.49e+04   -1.32e+04\n",
      "x73        -1.651e+04    469.162    -35.188      0.000   -1.74e+04   -1.56e+04\n",
      "x74         2755.7440    473.617      5.819      0.000    1827.469    3684.019\n",
      "x75         5.814e+04    472.986    122.920      0.000    5.72e+04    5.91e+04\n",
      "x76         8.043e+04    460.794    174.553      0.000    7.95e+04    8.13e+04\n",
      "x77         1.273e+05    448.545    283.837      0.000    1.26e+05    1.28e+05\n",
      "x78         1.756e+05    505.193    347.589      0.000    1.75e+05    1.77e+05\n",
      "x79         2.148e+05    558.003    385.008      0.000    2.14e+05    2.16e+05\n",
      "x80         2.303e+05    562.963    409.059      0.000    2.29e+05    2.31e+05\n",
      "x81         2.016e+05    564.124    357.283      0.000       2e+05    2.03e+05\n",
      "x82         1.842e+05    549.687    335.150      0.000    1.83e+05    1.85e+05\n",
      "x83         1.854e+05    536.843    345.318      0.000    1.84e+05    1.86e+05\n",
      "x84         1.842e+05    529.221    348.086      0.000    1.83e+05    1.85e+05\n",
      "x85         1.797e+05    524.334    342.686      0.000    1.79e+05    1.81e+05\n",
      "x86         1.782e+05    518.531    343.706      0.000    1.77e+05    1.79e+05\n",
      "x87         1.901e+05    511.200    371.831      0.000    1.89e+05    1.91e+05\n",
      "x88         2.404e+05    485.871    494.723      0.000    2.39e+05    2.41e+05\n",
      "x89         2.661e+05   1218.260    218.456      0.000    2.64e+05    2.69e+05\n",
      "==============================================================================\n",
      "Omnibus:                    90049.073   Durbin-Watson:                   1.999\n",
      "Prob(Omnibus):                  0.000   Jarque-Bera (JB):           353091.525\n",
      "Skew:                           0.932   Prob(JB):                         0.00\n",
      "Kurtosis:                       6.853   Cond. No.                         645.\n",
      "==============================================================================\n",
      "\n",
      "Notes:\n",
      "[1] Standard Errors assume that the covariance matrix of the errors is correctly specified.\n"
     ]
    }
   ],
   "source": [
    "print(est.summary())"
   ]
  },
  {
   "cell_type": "code",
   "execution_count": 26,
   "metadata": {},
   "outputs": [
    {
     "data": {
      "text/plain": [
       "(2647674253.760332, 0.8849248889286893)"
      ]
     },
     "execution_count": 26,
     "metadata": {},
     "output_type": "execute_result"
    }
   ],
   "source": [
    "X_train, X_test, y_train, y_test = train_test_split(\n",
    "    preprocessed_df, Y, test_size=0.33, random_state=42)\n",
    "\n",
    "y_pred = est.predict(sm.add_constant(X_test[:,kSelectColumnFilter].toarray()))\n",
    "\n",
    "mean_squared_error(\n",
    "    y_test, y_pred), r2_score(y_test, y_pred)\n"
   ]
  },
  {
   "cell_type": "markdown",
   "metadata": {},
   "source": [
    "Looking at the residual plot of story vs resale_price, the relationship between these 2 variables are not linear. which make sense as the impact of floors on the price of the property at lower floors are much higher when compared to at higher floorts"
   ]
  },
  {
   "cell_type": "markdown",
   "metadata": {},
   "source": [
    "Since the F-statistic value is very large and Prob (F-statistic) is less than 0.05, we have sufficient evidence that there is a good amount of linear relationship between the target variable and the feature variables"
   ]
  },
  {
   "cell_type": "code",
   "execution_count": 124,
   "metadata": {},
   "outputs": [],
   "source": [
    "test_data = pd.read_csv('./test.csv')\n",
    "X_test = cleanData(test_data)\n",
    "\n"
   ]
  },
  {
   "cell_type": "code",
   "execution_count": 125,
   "metadata": {},
   "outputs": [
    {
     "name": "stdout",
     "output_type": "stream",
     "text": [
      "town 26\n",
      "flat_type 7\n",
      "storey_range 25\n",
      "flat_model 20\n",
      "sold_year 23\n"
     ]
    },
    {
     "data": {
      "text/plain": [
       "103"
      ]
     },
     "execution_count": 125,
     "metadata": {},
     "output_type": "execute_result"
    }
   ],
   "source": [
    "total = 0\n",
    "for col in X_test.select_dtypes('object'):\n",
    "    total += len(list(X[col].unique()))\n",
    "    print(col, len(list(X[col].unique())))\n",
    "\n",
    "total += len(X_test.select_dtypes('number').columns)\n",
    "total"
   ]
  },
  {
   "cell_type": "code",
   "execution_count": 126,
   "metadata": {},
   "outputs": [],
   "source": [
    "preprocessed_X_test = ct.transform(X_test)\n",
    "preprocessed_X_test=preprocessed_X_test[:, kSelectColumnFilter]\n",
    "\n"
   ]
  },
  {
   "cell_type": "code",
   "execution_count": 127,
   "metadata": {},
   "outputs": [
    {
     "data": {
      "text/plain": [
       "(115629, 96)"
      ]
     },
     "execution_count": 127,
     "metadata": {},
     "output_type": "execute_result"
    }
   ],
   "source": [
    "preprocessed_X_test.shape\n"
   ]
  },
  {
   "cell_type": "code",
   "execution_count": 128,
   "metadata": {},
   "outputs": [],
   "source": [
    "y_pred = est.predict(sm.add_constant(preprocessed_X_test.toarray()))\n"
   ]
  },
  {
   "cell_type": "code",
   "execution_count": 129,
   "metadata": {},
   "outputs": [
    {
     "data": {
      "text/plain": [
       "(115629,)"
      ]
     },
     "execution_count": 129,
     "metadata": {},
     "output_type": "execute_result"
    }
   ],
   "source": [
    "y_pred.shape"
   ]
  },
  {
   "cell_type": "code",
   "execution_count": 130,
   "metadata": {},
   "outputs": [],
   "source": [
    "submission = pd.DataFrame(\n",
    "    y_pred, columns=['Resale_price'])\n",
    "\n",
    "submission['Index'] = np.arange(1, len(submission)+1)\n",
    "\n",
    "submission = submission[['Index', 'Resale_price']]\n"
   ]
  },
  {
   "cell_type": "code",
   "execution_count": 131,
   "metadata": {},
   "outputs": [],
   "source": [
    "submission.to_csv('submission.csv', index=False)\n"
   ]
  },
  {
   "cell_type": "code",
   "execution_count": 132,
   "metadata": {},
   "outputs": [
    {
     "data": {
      "text/html": [
       "<div>\n",
       "<style scoped>\n",
       "    .dataframe tbody tr th:only-of-type {\n",
       "        vertical-align: middle;\n",
       "    }\n",
       "\n",
       "    .dataframe tbody tr th {\n",
       "        vertical-align: top;\n",
       "    }\n",
       "\n",
       "    .dataframe thead th {\n",
       "        text-align: right;\n",
       "    }\n",
       "</style>\n",
       "<table border=\"1\" class=\"dataframe\">\n",
       "  <thead>\n",
       "    <tr style=\"text-align: right;\">\n",
       "      <th></th>\n",
       "      <th>Index</th>\n",
       "      <th>Resale_price</th>\n",
       "    </tr>\n",
       "  </thead>\n",
       "  <tbody>\n",
       "    <tr>\n",
       "      <th>0</th>\n",
       "      <td>1</td>\n",
       "      <td>284233.784925</td>\n",
       "    </tr>\n",
       "    <tr>\n",
       "      <th>1</th>\n",
       "      <td>2</td>\n",
       "      <td>423337.144503</td>\n",
       "    </tr>\n",
       "    <tr>\n",
       "      <th>2</th>\n",
       "      <td>3</td>\n",
       "      <td>387159.874347</td>\n",
       "    </tr>\n",
       "    <tr>\n",
       "      <th>3</th>\n",
       "      <td>4</td>\n",
       "      <td>575493.599397</td>\n",
       "    </tr>\n",
       "    <tr>\n",
       "      <th>4</th>\n",
       "      <td>5</td>\n",
       "      <td>108534.321540</td>\n",
       "    </tr>\n",
       "    <tr>\n",
       "      <th>...</th>\n",
       "      <td>...</td>\n",
       "      <td>...</td>\n",
       "    </tr>\n",
       "    <tr>\n",
       "      <th>115624</th>\n",
       "      <td>115625</td>\n",
       "      <td>197897.853881</td>\n",
       "    </tr>\n",
       "    <tr>\n",
       "      <th>115625</th>\n",
       "      <td>115626</td>\n",
       "      <td>174853.630928</td>\n",
       "    </tr>\n",
       "    <tr>\n",
       "      <th>115626</th>\n",
       "      <td>115627</td>\n",
       "      <td>400772.724090</td>\n",
       "    </tr>\n",
       "    <tr>\n",
       "      <th>115627</th>\n",
       "      <td>115628</td>\n",
       "      <td>165776.749032</td>\n",
       "    </tr>\n",
       "    <tr>\n",
       "      <th>115628</th>\n",
       "      <td>115629</td>\n",
       "      <td>200787.589794</td>\n",
       "    </tr>\n",
       "  </tbody>\n",
       "</table>\n",
       "<p>115629 rows × 2 columns</p>\n",
       "</div>"
      ],
      "text/plain": [
       "         Index   Resale_price\n",
       "0            1  284233.784925\n",
       "1            2  423337.144503\n",
       "2            3  387159.874347\n",
       "3            4  575493.599397\n",
       "4            5  108534.321540\n",
       "...        ...            ...\n",
       "115624  115625  197897.853881\n",
       "115625  115626  174853.630928\n",
       "115626  115627  400772.724090\n",
       "115627  115628  165776.749032\n",
       "115628  115629  200787.589794\n",
       "\n",
       "[115629 rows x 2 columns]"
      ]
     },
     "execution_count": 132,
     "metadata": {},
     "output_type": "execute_result"
    }
   ],
   "source": [
    "submission"
   ]
  },
  {
   "cell_type": "code",
   "execution_count": null,
   "metadata": {},
   "outputs": [],
   "source": []
  }
 ],
 "metadata": {
  "interpreter": {
   "hash": "bfbdb543f99b9635d1ef8f7f79e5cad978b7036ab0a25089d199f130f4abf0a0"
  },
  "kernelspec": {
   "display_name": "Python 3.7.9 64-bit (windows store)",
   "language": "python",
   "name": "python3"
  },
  "language_info": {
   "codemirror_mode": {
    "name": "ipython",
    "version": 3
   },
   "file_extension": ".py",
   "mimetype": "text/x-python",
   "name": "python",
   "nbconvert_exporter": "python",
   "pygments_lexer": "ipython3",
   "version": "3.7.9"
  },
  "orig_nbformat": 4
 },
 "nbformat": 4,
 "nbformat_minor": 2
}
