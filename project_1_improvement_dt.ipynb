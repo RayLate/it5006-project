{
 "cells": [
  {
   "cell_type": "code",
   "execution_count": 16,
   "metadata": {},
   "outputs": [],
   "source": [
    "import pandas as pd\n",
    "import numpy as np\n",
    "import statsmodels.api as sm\n",
    "import matplotlib.pyplot as plt\n",
    "import seaborn as sns\n",
    "from sklearn.preprocessing import StandardScaler, OneHotEncoder, Normalizer\n",
    "from sklearn.model_selection import train_test_split\n",
    "from sklearn.pipeline import Pipeline\n",
    "from sklearn.compose import make_column_selector, make_column_transformer\n",
    "from sklearn.feature_selection import f_regression\n",
    "from sklearn.feature_selection import SelectKBest\n",
    "from sklearn.feature_selection import SelectFromModel\n"
   ]
  },
  {
   "cell_type": "markdown",
   "metadata": {},
   "source": []
  },
  {
   "cell_type": "code",
   "execution_count": 2,
   "metadata": {},
   "outputs": [],
   "source": [
    "def cleanData(df):\n",
    "    def calculateAge(month: str, lease_commence_date: float) -> int:\n",
    "        # calculate years of lease remaining, using 99 years as default, round up to the nearest year\n",
    "        sold_year = month.strftime('%Y')\n",
    "        return max(int(int(sold_year) - lease_commence_date), 0)\n",
    "\n",
    "\n",
    "\n",
    "    df['month'] = pd.to_datetime(df['month'])\n",
    "    df['age'] = df.apply(\n",
    "        lambda x: calculateAge(x['month'], x['lease_commence_date']), axis=1)\n",
    "    df['sold_year'] = df['month'].dt.strftime('%Y')\n",
    "    df = df.dropna(axis=1)\n",
    "    try:\n",
    "        return df[['town', 'flat_type', 'storey_range', 'floor_area_sqm', 'flat_model', 'age', 'sold_year']].copy(), df[['resale_price']].copy()\n",
    "\n",
    "    except:\n",
    "        return df[['town', 'flat_type', 'storey_range', 'floor_area_sqm', 'flat_model', 'age', 'sold_year']].copy()\n"
   ]
  },
  {
   "cell_type": "code",
   "execution_count": 3,
   "metadata": {},
   "outputs": [],
   "source": [
    "df = pd.read_csv('./train.csv')\n",
    "X, Y =cleanData(df)"
   ]
  },
  {
   "cell_type": "code",
   "execution_count": null,
   "metadata": {},
   "outputs": [],
   "source": []
  },
  {
   "cell_type": "code",
   "execution_count": 4,
   "metadata": {},
   "outputs": [
    {
     "data": {
      "image/png": "[encoded data removed]",
      "text/plain": [
       "<Figure size 360x360 with 1 Axes>"
      ]
     },
     "metadata": {
      "needs_background": "light"
     },
     "output_type": "display_data"
    },
    {
     "data": {
      "image/png": "[encoded data removed]",
      "text/plain": [
       "<Figure size 360x360 with 1 Axes>"
      ]
     },
     "metadata": {
      "needs_background": "light"
     },
     "output_type": "display_data"
    }
   ],
   "source": [
    "for col in list(X.select_dtypes(['number']).columns):\n",
    "    sns.displot(X[col])\n",
    "\n",
    "plt.show()\n"
   ]
  },
  {
   "cell_type": "code",
   "execution_count": 5,
   "metadata": {},
   "outputs": [
    {
     "name": "stdout",
     "output_type": "stream",
     "text": [
      "town 26\n",
      "flat_type 7\n",
      "storey_range 25\n",
      "flat_model 20\n",
      "sold_year 23\n"
     ]
    },
    {
     "data": {
      "text/plain": [
       "103"
      ]
     },
     "execution_count": 5,
     "metadata": {},
     "output_type": "execute_result"
    }
   ],
   "source": [
    "total = 0\n",
    "for col in X.select_dtypes('object'):\n",
    "    total += len(list(X[col].unique()))\n",
    "    print(col, len(list(X[col].unique())))\n",
    "\n",
    "total += len(X.select_dtypes('number').columns)\n",
    "total\n"
   ]
  },
  {
   "cell_type": "code",
   "execution_count": 6,
   "metadata": {},
   "outputs": [],
   "source": [
    "# Apply StandardScaler and Normalizer to numeric data (new)\n",
    "\n",
    "ct = make_column_transformer(\n",
    "    (Pipeline([\n",
    "        ('scaler', StandardScaler()),\n",
    "        ('normalize', Normalizer()),\n",
    "    ]),\n",
    "     make_column_selector(dtype_include=np.number)),  \n",
    "    (OneHotEncoder(drop='first'),\n",
    "     make_column_selector(dtype_include=object)))  \n",
    "\n",
    "ct.fit(X)\n",
    "preprocessed_df = ct.transform(X)\n"
   ]
  },
  {
   "cell_type": "code",
   "execution_count": 7,
   "metadata": {},
   "outputs": [
    {
     "data": {
      "text/plain": [
       "(462515, 98)"
      ]
     },
     "execution_count": 7,
     "metadata": {},
     "output_type": "execute_result"
    }
   ],
   "source": [
    "from sklearn.metrics import mean_squared_error, r2_score\n",
    "preprocessed_df.shape\n"
   ]
  },
  {
   "cell_type": "code",
   "execution_count": 8,
   "metadata": {},
   "outputs": [],
   "source": [
    "\n",
    "X_train, X_test, y_train, y_test = train_test_split(\n",
    "    preprocessed_df, Y, test_size=0.33, random_state=42)\n"
   ]
  },
  {
   "cell_type": "code",
   "execution_count": 12,
   "metadata": {},
   "outputs": [
    {
     "name": "stderr",
     "output_type": "stream",
     "text": [
      "C:\\Users\\bader\\AppData\\Local\\Packages\\PythonSoftwareFoundation.Python.3.7_qbz5n2kfra8p0\\LocalCache\\local-packages\\Python37\\site-packages\\ipykernel_launcher.py:22: DataConversionWarning: A column-vector y was passed when a 1d array was expected. Please change the shape of y to (n_samples,), for example using ravel().\n",
      "C:\\Users\\bader\\AppData\\Local\\Packages\\PythonSoftwareFoundation.Python.3.7_qbz5n2kfra8p0\\LocalCache\\local-packages\\Python37\\site-packages\\ipykernel_launcher.py:23: DataConversionWarning: A column-vector y was passed when a 1d array was expected. Please change the shape of y to (n_samples,), for example using ravel().\n",
      "C:\\Users\\bader\\AppData\\Local\\Packages\\PythonSoftwareFoundation.Python.3.7_qbz5n2kfra8p0\\LocalCache\\local-packages\\Python37\\site-packages\\ipykernel_launcher.py:24: DataConversionWarning: A column-vector y was passed when a 1d array was expected. Please change the shape of y to (n_samples,), for example using ravel().\n"
     ]
    },
    {
     "name": "stdout",
     "output_type": "stream",
     "text": [
      "2609177188.298868\n",
      "0.8865980759068856\n",
      "14866666903.216488\n",
      "0.3538542958152444\n",
      "10953053519.565044\n",
      "0.5239505582894668\n",
      "8050824333.278996\n",
      "0.6500893178033847\n",
      "14699924902.259026\n",
      "0.3611013558541375\n",
      "10537273233.52877\n",
      "0.5420214982961284\n",
      "7408272040.596926\n",
      "0.6780163848678091\n"
     ]
    }
   ],
   "source": [
    "from sklearn.tree import DecisionTreeRegressor\n",
    "from sklearn.linear_model import LinearRegression\n",
    "\n",
    "from sklearn.ensemble import RandomForestRegressor\n",
    "\n",
    "Linear_Model = LinearRegression()\n",
    "Linear_Model.fit(X_train, y_train)\n",
    "y_pred_lin = Linear_Model.predict(X_test)\n",
    "\n",
    "regr1 = DecisionTreeRegressor(max_depth=2)\n",
    "regr2 = DecisionTreeRegressor(max_depth=5)\n",
    "regr3 = DecisionTreeRegressor(max_depth=8)\n",
    "\n",
    "regr4 = RandomForestRegressor(max_depth=2, random_state=42)\n",
    "regr5 = RandomForestRegressor(max_depth=5, random_state=42)\n",
    "regr6 = RandomForestRegressor(max_depth=8, random_state=42)\n",
    "\n",
    "\n",
    "regr1.fit(X_train, y_train)\n",
    "regr2.fit(X_train, y_train)\n",
    "regr3.fit(X_train, y_train)\n",
    "\n",
    "regr4.fit(X_train, y_train)\n",
    "regr5.fit(X_train, y_train)\n",
    "regr6.fit(X_train, y_train)\n",
    "# diecision tree\n",
    "y_1 = regr1.predict(X_test)\n",
    "y_2 = regr2.predict(X_test)\n",
    "y_3 = regr3.predict(X_test)\n",
    "# random forest\n",
    "y_4 = regr4.predict(X_test)\n",
    "y_5 = regr5.predict(X_test)\n",
    "y_6 = regr6.predict(X_test)\n",
    "\n",
    "print(mean_squared_error(y_test, y_pred_lin))  # instead of y_true and y_pred?\n",
    "print(Linear_Model.score(X_test, y_test))\n",
    "\n",
    "print(mean_squared_error(y_test, y_1))\n",
    "print(r2_score(y_test, y_1))\n",
    "\n",
    "print(mean_squared_error(y_test, y_2))\n",
    "print(r2_score(y_test, y_2))\n",
    "\n",
    "print(mean_squared_error(y_test, y_3))\n",
    "print(r2_score(y_test, y_3))\n",
    "\n",
    "print(mean_squared_error(y_test, y_4))\n",
    "print(r2_score(y_test, y_4))\n",
    "\n",
    "print(mean_squared_error(y_test, y_5))\n",
    "print(r2_score(y_test, y_5))\n",
    "\n",
    "print(mean_squared_error(y_test, y_6))\n",
    "print(r2_score(y_test, y_6))\n"
   ]
  },
  {
   "cell_type": "code",
   "execution_count": 29,
   "metadata": {},
   "outputs": [
    {
     "name": "stderr",
     "output_type": "stream",
     "text": [
      "C:\\Users\\bader\\AppData\\Local\\Packages\\PythonSoftwareFoundation.Python.3.7_qbz5n2kfra8p0\\LocalCache\\local-packages\\Python37\\site-packages\\ipykernel_launcher.py:4: DataConversionWarning: A column-vector y was passed when a 1d array was expected. Please change the shape of y to (n_samples,), for example using ravel().\n",
      "  after removing the cwd from sys.path.\n"
     ]
    },
    {
     "name": "stdout",
     "output_type": "stream",
     "text": [
      "4826314623.300277\n",
      "0.7902352638159374\n"
     ]
    }
   ],
   "source": [
    "# regr7 = DecisionTreeRegressor(max_depth=12)\n",
    "regr8 = RandomForestRegressor(max_depth=12, random_state=42)\n",
    "# regr7.fit(X_train, y_train)\n",
    "regr8.fit(X_train, y_train)\n",
    "# y_7 = regr7.predict(X_test)\n",
    "y_8 = regr8.predict(X_test)\n",
    "# print(mean_squared_error(y_test, y_7))\n",
    "# print(r2_score(y_test, y_7))\n",
    "\n",
    "print(mean_squared_error(y_test, y_8))\n",
    "print(r2_score(y_test, y_8))\n"
   ]
  },
  {
   "cell_type": "code",
   "execution_count": 30,
   "metadata": {},
   "outputs": [],
   "source": [
    "sel= SelectFromModel(regr8, prefit=True)\n",
    "selected_feat = X_train[:,(sel.get_support())]\n"
   ]
  },
  {
   "cell_type": "code",
   "execution_count": 31,
   "metadata": {},
   "outputs": [
    {
     "name": "stderr",
     "output_type": "stream",
     "text": [
      "C:\\Users\\bader\\AppData\\Local\\Packages\\PythonSoftwareFoundation.Python.3.7_qbz5n2kfra8p0\\LocalCache\\local-packages\\Python37\\site-packages\\ipykernel_launcher.py:3: DataConversionWarning: A column-vector y was passed when a 1d array was expected. Please change the shape of y to (n_samples,), for example using ravel().\n",
      "  This is separate from the ipykernel package so we can avoid doing imports until\n"
     ]
    },
    {
     "data": {
      "text/plain": [
       "RandomForestRegressor(max_depth=12, random_state=42)"
      ]
     },
     "execution_count": 31,
     "metadata": {},
     "output_type": "execute_result"
    }
   ],
   "source": [
    "selected_feat.shape\n",
    "regr9 = RandomForestRegressor(max_depth=12, random_state=42)\n",
    "regr9.fit(selected_feat,y_train)\n",
    "\n"
   ]
  },
  {
   "cell_type": "code",
   "execution_count": 32,
   "metadata": {},
   "outputs": [
    {
     "data": {
      "text/plain": [
       "array([ True,  True, False, False, False,  True, False, False, False,\n",
       "       False, False, False, False, False, False, False, False, False,\n",
       "       False,  True, False, False, False, False, False, False, False,\n",
       "       False, False,  True, False,  True, False, False, False, False,\n",
       "       False, False, False, False, False, False, False, False, False,\n",
       "       False, False, False, False, False, False, False, False, False,\n",
       "       False, False, False, False, False,  True, False, False, False,\n",
       "        True, False, False, False, False, False, False, False, False,\n",
       "       False, False, False, False, False, False, False, False,  True,\n",
       "        True,  True, False, False, False,  True,  True,  True, False,\n",
       "       False, False, False, False, False, False,  True, False])"
      ]
     },
     "execution_count": 32,
     "metadata": {},
     "output_type": "execute_result"
    }
   ],
   "source": [
    "# X_test[:, ]\n",
    "(sel.get_support())\n"
   ]
  },
  {
   "cell_type": "code",
   "execution_count": 33,
   "metadata": {},
   "outputs": [
    {
     "name": "stdout",
     "output_type": "stream",
     "text": [
      "6354105325.1065\n",
      "0.7238333322133721\n"
     ]
    }
   ],
   "source": [
    "y_9 = regr9.predict(X_test[:, (sel.get_support())])\n",
    "\n",
    "print(mean_squared_error(y_test, y_9))\n",
    "print(r2_score(y_test, y_9))\n"
   ]
  },
  {
   "cell_type": "markdown",
   "metadata": {},
   "source": [
    "Looking at the residual plot of story vs resale_price, the relationship between these 2 variables are not linear. which make sense as the impact of floors on the price of the property at lower floors are much higher when compared to at higher floorts"
   ]
  },
  {
   "cell_type": "markdown",
   "metadata": {},
   "source": [
    "Since the F-statistic value is very large and Prob (F-statistic) is less than 0.05, we have sufficient evidence that there is a good amount of linear relationship between the target variable and the feature variables"
   ]
  },
  {
   "cell_type": "code",
   "execution_count": 13,
   "metadata": {},
   "outputs": [],
   "source": [
    "test_data = pd.read_csv('./test.csv')\n",
    "X_test = cleanData(test_data)\n",
    "\n"
   ]
  },
  {
   "cell_type": "code",
   "execution_count": 14,
   "metadata": {},
   "outputs": [
    {
     "name": "stdout",
     "output_type": "stream",
     "text": [
      "town 26\n",
      "flat_type 7\n",
      "storey_range 25\n",
      "flat_model 20\n",
      "sold_year 23\n"
     ]
    },
    {
     "data": {
      "text/plain": [
       "103"
      ]
     },
     "execution_count": 14,
     "metadata": {},
     "output_type": "execute_result"
    }
   ],
   "source": [
    "total = 0\n",
    "for col in X_test.select_dtypes('object'):\n",
    "    total += len(list(X[col].unique()))\n",
    "    print(col, len(list(X[col].unique())))\n",
    "\n",
    "total += len(X_test.select_dtypes('number').columns)\n",
    "total"
   ]
  },
  {
   "cell_type": "code",
   "execution_count": 15,
   "metadata": {},
   "outputs": [],
   "source": [
    "preprocessed_X_test = ct.transform(X_test)\n",
    "preprocessed_X_test=preprocessed_X_test[:, kSelectColumnFilter]\n",
    "\n"
   ]
  },
  {
   "cell_type": "code",
   "execution_count": 16,
   "metadata": {},
   "outputs": [
    {
     "data": {
      "text/plain": [
       "(115629, 96)"
      ]
     },
     "execution_count": 16,
     "metadata": {},
     "output_type": "execute_result"
    }
   ],
   "source": [
    "preprocessed_X_test.shape\n"
   ]
  },
  {
   "cell_type": "code",
   "execution_count": 17,
   "metadata": {},
   "outputs": [
    {
     "name": "stdout",
     "output_type": "stream",
     "text": [
      "(115629, 96) (462515, 96)\n"
     ]
    }
   ],
   "source": [
    "print(preprocessed_X_test.shape,X_selected.shape)\n"
   ]
  },
  {
   "cell_type": "code",
   "execution_count": 18,
   "metadata": {},
   "outputs": [],
   "source": [
    "y_pred = est.predict(sm.add_constant(preprocessed_X_test.toarray()))\n"
   ]
  },
  {
   "cell_type": "code",
   "execution_count": 19,
   "metadata": {},
   "outputs": [
    {
     "data": {
      "text/plain": [
       "(115629,)"
      ]
     },
     "execution_count": 19,
     "metadata": {},
     "output_type": "execute_result"
    }
   ],
   "source": [
    "y_pred.shape"
   ]
  },
  {
   "cell_type": "code",
   "execution_count": 20,
   "metadata": {},
   "outputs": [],
   "source": [
    "submission = pd.DataFrame(\n",
    "    y_pred, columns=['Resale_price'])\n",
    "\n",
    "submission['Index'] = np.arange(1, len(submission)+1)\n",
    "\n",
    "submission = submission[['Index', 'Resale_price']]\n"
   ]
  },
  {
   "cell_type": "code",
   "execution_count": 21,
   "metadata": {},
   "outputs": [],
   "source": [
    "submission.to_csv('submission.csv', index=False)\n"
   ]
  },
  {
   "cell_type": "code",
   "execution_count": 22,
   "metadata": {},
   "outputs": [
    {
     "data": {
      "text/html": [
       "<div>\n",
       "<style scoped>\n",
       "    .dataframe tbody tr th:only-of-type {\n",
       "        vertical-align: middle;\n",
       "    }\n",
       "\n",
       "    .dataframe tbody tr th {\n",
       "        vertical-align: top;\n",
       "    }\n",
       "\n",
       "    .dataframe thead th {\n",
       "        text-align: right;\n",
       "    }\n",
       "</style>\n",
       "<table border=\"1\" class=\"dataframe\">\n",
       "  <thead>\n",
       "    <tr style=\"text-align: right;\">\n",
       "      <th></th>\n",
       "      <th>Index</th>\n",
       "      <th>Resale_price</th>\n",
       "    </tr>\n",
       "  </thead>\n",
       "  <tbody>\n",
       "    <tr>\n",
       "      <th>0</th>\n",
       "      <td>1</td>\n",
       "      <td>278408.475501</td>\n",
       "    </tr>\n",
       "    <tr>\n",
       "      <th>1</th>\n",
       "      <td>2</td>\n",
       "      <td>419570.529159</td>\n",
       "    </tr>\n",
       "    <tr>\n",
       "      <th>2</th>\n",
       "      <td>3</td>\n",
       "      <td>344262.609740</td>\n",
       "    </tr>\n",
       "    <tr>\n",
       "      <th>3</th>\n",
       "      <td>4</td>\n",
       "      <td>568086.169266</td>\n",
       "    </tr>\n",
       "    <tr>\n",
       "      <th>4</th>\n",
       "      <td>5</td>\n",
       "      <td>123279.572479</td>\n",
       "    </tr>\n",
       "    <tr>\n",
       "      <th>...</th>\n",
       "      <td>...</td>\n",
       "      <td>...</td>\n",
       "    </tr>\n",
       "    <tr>\n",
       "      <th>115624</th>\n",
       "      <td>115625</td>\n",
       "      <td>193407.814849</td>\n",
       "    </tr>\n",
       "    <tr>\n",
       "      <th>115625</th>\n",
       "      <td>115626</td>\n",
       "      <td>131438.262869</td>\n",
       "    </tr>\n",
       "    <tr>\n",
       "      <th>115626</th>\n",
       "      <td>115627</td>\n",
       "      <td>395147.398447</td>\n",
       "    </tr>\n",
       "    <tr>\n",
       "      <th>115627</th>\n",
       "      <td>115628</td>\n",
       "      <td>167622.758318</td>\n",
       "    </tr>\n",
       "    <tr>\n",
       "      <th>115628</th>\n",
       "      <td>115629</td>\n",
       "      <td>197772.428020</td>\n",
       "    </tr>\n",
       "  </tbody>\n",
       "</table>\n",
       "<p>115629 rows × 2 columns</p>\n",
       "</div>"
      ],
      "text/plain": [
       "         Index   Resale_price\n",
       "0            1  278408.475501\n",
       "1            2  419570.529159\n",
       "2            3  344262.609740\n",
       "3            4  568086.169266\n",
       "4            5  123279.572479\n",
       "...        ...            ...\n",
       "115624  115625  193407.814849\n",
       "115625  115626  131438.262869\n",
       "115626  115627  395147.398447\n",
       "115627  115628  167622.758318\n",
       "115628  115629  197772.428020\n",
       "\n",
       "[115629 rows x 2 columns]"
      ]
     },
     "execution_count": 22,
     "metadata": {},
     "output_type": "execute_result"
    }
   ],
   "source": [
    "submission"
   ]
  },
  {
   "cell_type": "code",
   "execution_count": null,
   "metadata": {},
   "outputs": [],
   "source": []
  }
 ],
 "metadata": {
  "interpreter": {
   "hash": "bfbdb543f99b9635d1ef8f7f79e5cad978b7036ab0a25089d199f130f4abf0a0"
  },
  "kernelspec": {
   "display_name": "Python 3.7.9 64-bit (windows store)",
   "language": "python",
   "name": "python3"
  },
  "language_info": {
   "codemirror_mode": {
    "name": "ipython",
    "version": 3
   },
   "file_extension": ".py",
   "mimetype": "text/x-python",
   "name": "python",
   "nbconvert_exporter": "python",
   "pygments_lexer": "ipython3",
   "version": "3.7.9"
  },
  "orig_nbformat": 4
 },
 "nbformat": 4,
 "nbformat_minor": 2
}
